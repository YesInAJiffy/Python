{
  "nbformat": 4,
  "nbformat_minor": 0,
  "metadata": {
    "colab": {
      "provenance": [],
      "authorship_tag": "ABX9TyOfmQPbJHaEDKAcHaRLf5Gf",
      "include_colab_link": true
    },
    "kernelspec": {
      "name": "python3",
      "display_name": "Python 3"
    },
    "language_info": {
      "name": "python"
    }
  },
  "cells": [
    {
      "cell_type": "markdown",
      "metadata": {
        "id": "view-in-github",
        "colab_type": "text"
      },
      "source": [
        "<a href=\"https://colab.research.google.com/github/YesInAJiffy/Python/blob/main/1.%20Pandas.ipynb\" target=\"_parent\"><img src=\"https://colab.research.google.com/assets/colab-badge.svg\" alt=\"Open In Colab\"/></a>"
      ]
    },
    {
      "cell_type": "markdown",
      "source": [
        "\n",
        "* head() returns the first few rows (the “head” of the DataFrame).\n",
        "* .info() shows information on each of the columns, such as the data type and number of missing values.\n",
        "* .shape returns the number of rows and columns of the DataFrame.\n",
        "* .describe() calculates a few summary statistics for each column."
      ],
      "metadata": {
        "id": "2MxgVwk3l7Ez"
      }
    },
    {
      "cell_type": "code",
      "execution_count": 2,
      "metadata": {
        "colab": {
          "base_uri": "https://localhost:8080/"
        },
        "id": "D-B5L_9nlaul",
        "outputId": "642d85fc-dff8-45d6-fe02-ecd3b91c5cbc"
      },
      "outputs": [
        {
          "output_type": "stream",
          "name": "stdout",
          "text": [
            "<class 'pandas.core.frame.DataFrame'>\n",
            "RangeIndex: 3 entries, 0 to 2\n",
            "Data columns (total 3 columns):\n",
            " #   Column  Non-Null Count  Dtype \n",
            "---  ------  --------------  ----- \n",
            " 0   Name    3 non-null      object\n",
            " 1   Age     3 non-null      int64 \n",
            " 2   Salary  3 non-null      int64 \n",
            "dtypes: int64(2), object(1)\n",
            "memory usage: 200.0+ bytes\n",
            "None\n",
            "    Name  Age  Salary\n",
            "0  Alice   25   50000\n",
            "1    Bob   30   60000\n",
            "(3, 3)\n",
            "             Age        Salary\n",
            "count   3.000000      3.000000\n",
            "mean   25.666667  51666.666667\n",
            "std     4.041452   7637.626158\n",
            "min    22.000000  45000.000000\n",
            "25%    23.500000  47500.000000\n",
            "50%    25.000000  50000.000000\n",
            "75%    27.500000  55000.000000\n",
            "max    30.000000  60000.000000\n"
          ]
        }
      ],
      "source": [
        "#Information on the Dataframe\n",
        "\n",
        "import pandas as pd\n",
        "\n",
        "# Create a sample DataFrame\n",
        "data = {'Name': ['Alice', 'Bob', 'Charlie'],\n",
        "        'Age': [25, 30, 22],\n",
        "        'Salary': [50000, 60000, 45000]}\n",
        "\n",
        "df = pd.DataFrame(data)\n",
        "\n",
        "# Display information about the DataFrame\n",
        "print(df.info())\n",
        "\n",
        "print(df.head(2))\n",
        "\n",
        "print(df.shape)\n",
        "\n",
        "print(df.describe())\n"
      ]
    },
    {
      "cell_type": "code",
      "source": [
        "#SORTING\n",
        "import pandas as pd\n",
        "\n",
        "# Create a sample DataFrame\n",
        "data = {'Name': ['Alice', 'Bob', 'Charlie'],\n",
        "        'Age': [25, 30, 22],\n",
        "        'Salary': [50000, 60000, 45000]}\n",
        "\n",
        "df = pd.DataFrame(data)\n",
        "\n",
        "# Sort the DataFrame by the 'Salary' column in descending order\n",
        "df_sorted = df.sort_values(by='Salary', ascending=False)\n",
        "\n",
        "# Display the sorted DataFrame\n",
        "print(df_sorted)\n"
      ],
      "metadata": {
        "colab": {
          "base_uri": "https://localhost:8080/"
        },
        "id": "1JA1BFlXls7y",
        "outputId": "9fe1d60e-991c-4a15-91ca-dae1d09a7187"
      },
      "execution_count": 3,
      "outputs": [
        {
          "output_type": "stream",
          "name": "stdout",
          "text": [
            "      Name  Age  Salary\n",
            "1      Bob   30   60000\n",
            "0    Alice   25   50000\n",
            "2  Charlie   22   45000\n"
          ]
        }
      ]
    },
    {
      "cell_type": "code",
      "source": [
        "#SORTING ON MULTIPLE COLUMNS\n",
        "import pandas as pd\n",
        "\n",
        "# Create a sample DataFrame\n",
        "data = {'Name': ['Alice', 'Bob', 'Charlie', 'David'],\n",
        "        'Age': [25, 30, 22, 28],\n",
        "        'Salary': [50000, 60000, 45000, 55000]}\n",
        "\n",
        "df = pd.DataFrame(data)\n",
        "\n",
        "# Sort the DataFrame by 'Age' in ascending order and then by 'Salary' in descending order\n",
        "df_sorted = df.sort_values(by=['Age', 'Salary'], ascending=[True, False])\n",
        "\n",
        "# Display the sorted DataFrame\n",
        "print(df_sorted)\n"
      ],
      "metadata": {
        "id": "Gbqe_IfOnpH4",
        "outputId": "c35881df-afaf-430b-8695-aa069fb36ee9",
        "colab": {
          "base_uri": "https://localhost:8080/"
        }
      },
      "execution_count": 4,
      "outputs": [
        {
          "output_type": "stream",
          "name": "stdout",
          "text": [
            "      Name  Age  Salary\n",
            "2  Charlie   22   45000\n",
            "0    Alice   25   50000\n",
            "3    David   28   55000\n",
            "1      Bob   30   60000\n"
          ]
        }
      ]
    },
    {
      "cell_type": "code",
      "source": [
        "#Select subset from a dataframe\n",
        "import pandas as pd\n",
        "\n",
        "# Create a sample DataFrame\n",
        "data = {'Name': ['Alice', 'Bob', 'Charlie', 'David'],\n",
        "        'Age': [25, 30, 22, 28],\n",
        "        'Salary': [50000, 60000, 45000, 55000]}\n",
        "\n",
        "df = pd.DataFrame(data)\n",
        "\n",
        "# Create a new DataFrame containing rows where 'Age' is greater than 25\n",
        "subset_df = df[df['Age'] > 25]\n",
        "\n",
        "# Display the new DataFrame\n",
        "print(subset_df)\n",
        "\n",
        "# Create a new DataFrame with selected columns\n",
        "selected_columns_df = df[['Name', 'Salary']]\n",
        "\n",
        "# Display the new DataFrame\n",
        "print(selected_columns_df)\n"
      ],
      "metadata": {
        "id": "NO15EJ7Eomkh",
        "outputId": "f3647ecd-7b36-40fa-c1d0-06028408d02b",
        "colab": {
          "base_uri": "https://localhost:8080/"
        }
      },
      "execution_count": 5,
      "outputs": [
        {
          "output_type": "stream",
          "name": "stdout",
          "text": [
            "    Name  Age  Salary\n",
            "1    Bob   30   60000\n",
            "3  David   28   55000\n",
            "      Name  Salary\n",
            "0    Alice   50000\n",
            "1      Bob   60000\n",
            "2  Charlie   45000\n",
            "3    David   55000\n"
          ]
        }
      ]
    }
  ]
}