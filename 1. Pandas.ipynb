{
  "nbformat": 4,
  "nbformat_minor": 0,
  "metadata": {
    "colab": {
      "provenance": [],
      "authorship_tag": "ABX9TyPWJfRIpTNU6Ms0BPrgwiiS",
      "include_colab_link": true
    },
    "kernelspec": {
      "name": "python3",
      "display_name": "Python 3"
    },
    "language_info": {
      "name": "python"
    }
  },
  "cells": [
    {
      "cell_type": "markdown",
      "metadata": {
        "id": "view-in-github",
        "colab_type": "text"
      },
      "source": [
        "<a href=\"https://colab.research.google.com/github/YesInAJiffy/Python/blob/main/1.%20Pandas.ipynb\" target=\"_parent\"><img src=\"https://colab.research.google.com/assets/colab-badge.svg\" alt=\"Open In Colab\"/></a>"
      ]
    },
    {
      "cell_type": "markdown",
      "source": [
        "\n",
        "* head() returns the first few rows (the “head” of the DataFrame).\n",
        "* .info() shows information on each of the columns, such as the data type and number of missing values.\n",
        "* .shape returns the number of rows and columns of the DataFrame.\n",
        "* .describe() calculates a few summary statistics for each column."
      ],
      "metadata": {
        "id": "2MxgVwk3l7Ez"
      }
    },
    {
      "cell_type": "code",
      "execution_count": 2,
      "metadata": {
        "colab": {
          "base_uri": "https://localhost:8080/"
        },
        "id": "D-B5L_9nlaul",
        "outputId": "642d85fc-dff8-45d6-fe02-ecd3b91c5cbc"
      },
      "outputs": [
        {
          "output_type": "stream",
          "name": "stdout",
          "text": [
            "<class 'pandas.core.frame.DataFrame'>\n",
            "RangeIndex: 3 entries, 0 to 2\n",
            "Data columns (total 3 columns):\n",
            " #   Column  Non-Null Count  Dtype \n",
            "---  ------  --------------  ----- \n",
            " 0   Name    3 non-null      object\n",
            " 1   Age     3 non-null      int64 \n",
            " 2   Salary  3 non-null      int64 \n",
            "dtypes: int64(2), object(1)\n",
            "memory usage: 200.0+ bytes\n",
            "None\n",
            "    Name  Age  Salary\n",
            "0  Alice   25   50000\n",
            "1    Bob   30   60000\n",
            "(3, 3)\n",
            "             Age        Salary\n",
            "count   3.000000      3.000000\n",
            "mean   25.666667  51666.666667\n",
            "std     4.041452   7637.626158\n",
            "min    22.000000  45000.000000\n",
            "25%    23.500000  47500.000000\n",
            "50%    25.000000  50000.000000\n",
            "75%    27.500000  55000.000000\n",
            "max    30.000000  60000.000000\n"
          ]
        }
      ],
      "source": [
        "#Information on the Dataframe\n",
        "\n",
        "import pandas as pd\n",
        "\n",
        "# Create a sample DataFrame\n",
        "data = {'Name': ['Alice', 'Bob', 'Charlie'],\n",
        "        'Age': [25, 30, 22],\n",
        "        'Salary': [50000, 60000, 45000]}\n",
        "\n",
        "df = pd.DataFrame(data)\n",
        "\n",
        "# Display information about the DataFrame\n",
        "print(df.info())\n",
        "\n",
        "print(df.head(2))\n",
        "\n",
        "print(df.shape)\n",
        "\n",
        "print(df.describe())\n"
      ]
    },
    {
      "cell_type": "code",
      "source": [],
      "metadata": {
        "id": "1JA1BFlXls7y"
      },
      "execution_count": null,
      "outputs": []
    }
  ]
}