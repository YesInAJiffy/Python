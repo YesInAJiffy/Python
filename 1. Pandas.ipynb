{
  "nbformat": 4,
  "nbformat_minor": 0,
  "metadata": {
    "colab": {
      "provenance": [],
      "authorship_tag": "ABX9TyMxSaUvm6AUwCSS03H6TxAT",
      "include_colab_link": true
    },
    "kernelspec": {
      "name": "python3",
      "display_name": "Python 3"
    },
    "language_info": {
      "name": "python"
    }
  },
  "cells": [
    {
      "cell_type": "markdown",
      "metadata": {
        "id": "view-in-github",
        "colab_type": "text"
      },
      "source": [
        "<a href=\"https://colab.research.google.com/github/YesInAJiffy/Python/blob/main/1.%20Pandas.ipynb\" target=\"_parent\"><img src=\"https://colab.research.google.com/assets/colab-badge.svg\" alt=\"Open In Colab\"/></a>"
      ]
    },
    {
      "cell_type": "markdown",
      "source": [
        "\n",
        "* head() returns the first few rows (the “head” of the DataFrame).\n",
        "* .info() shows information on each of the columns, such as the data type and number of missing values.\n",
        "* .shape returns the number of rows and columns of the DataFrame.\n",
        "* .describe() calculates a few summary statistics for each column."
      ],
      "metadata": {
        "id": "2MxgVwk3l7Ez"
      }
    },
    {
      "cell_type": "code",
      "execution_count": null,
      "metadata": {
        "colab": {
          "base_uri": "https://localhost:8080/"
        },
        "id": "D-B5L_9nlaul",
        "outputId": "642d85fc-dff8-45d6-fe02-ecd3b91c5cbc"
      },
      "outputs": [
        {
          "output_type": "stream",
          "name": "stdout",
          "text": [
            "<class 'pandas.core.frame.DataFrame'>\n",
            "RangeIndex: 3 entries, 0 to 2\n",
            "Data columns (total 3 columns):\n",
            " #   Column  Non-Null Count  Dtype \n",
            "---  ------  --------------  ----- \n",
            " 0   Name    3 non-null      object\n",
            " 1   Age     3 non-null      int64 \n",
            " 2   Salary  3 non-null      int64 \n",
            "dtypes: int64(2), object(1)\n",
            "memory usage: 200.0+ bytes\n",
            "None\n",
            "    Name  Age  Salary\n",
            "0  Alice   25   50000\n",
            "1    Bob   30   60000\n",
            "(3, 3)\n",
            "             Age        Salary\n",
            "count   3.000000      3.000000\n",
            "mean   25.666667  51666.666667\n",
            "std     4.041452   7637.626158\n",
            "min    22.000000  45000.000000\n",
            "25%    23.500000  47500.000000\n",
            "50%    25.000000  50000.000000\n",
            "75%    27.500000  55000.000000\n",
            "max    30.000000  60000.000000\n"
          ]
        }
      ],
      "source": [
        "#Information on the Dataframe\n",
        "\n",
        "import pandas as pd\n",
        "\n",
        "# Create a sample DataFrame\n",
        "data = {'Name': ['Alice', 'Bob', 'Charlie'],\n",
        "        'Age': [25, 30, 22],\n",
        "        'Salary': [50000, 60000, 45000]}\n",
        "\n",
        "df = pd.DataFrame(data)\n",
        "\n",
        "# Display information about the DataFrame\n",
        "print(df.info())\n",
        "\n",
        "print(df.head(2))\n",
        "\n",
        "print(df.shape)\n",
        "\n",
        "print(df.describe())\n"
      ]
    },
    {
      "cell_type": "code",
      "source": [
        "#SORTING\n",
        "import pandas as pd\n",
        "\n",
        "# Create a sample DataFrame\n",
        "data = {'Name': ['Alice', 'Bob', 'Charlie'],\n",
        "        'Age': [25, 30, 22],\n",
        "        'Salary': [50000, 60000, 45000]}\n",
        "\n",
        "df = pd.DataFrame(data)\n",
        "\n",
        "# Sort the DataFrame by the 'Salary' column in descending order\n",
        "df_sorted = df.sort_values(by='Salary', ascending=False)\n",
        "\n",
        "# Display the sorted DataFrame\n",
        "print(df_sorted)\n"
      ],
      "metadata": {
        "colab": {
          "base_uri": "https://localhost:8080/"
        },
        "id": "1JA1BFlXls7y",
        "outputId": "9fe1d60e-991c-4a15-91ca-dae1d09a7187"
      },
      "execution_count": null,
      "outputs": [
        {
          "output_type": "stream",
          "name": "stdout",
          "text": [
            "      Name  Age  Salary\n",
            "1      Bob   30   60000\n",
            "0    Alice   25   50000\n",
            "2  Charlie   22   45000\n"
          ]
        }
      ]
    },
    {
      "cell_type": "code",
      "source": [
        "#SORTING ON MULTIPLE COLUMNS\n",
        "import pandas as pd\n",
        "\n",
        "# Create a sample DataFrame\n",
        "data = {'Name': ['Alice', 'Bob', 'Charlie', 'David'],\n",
        "        'Age': [25, 30, 22, 28],\n",
        "        'Salary': [50000, 60000, 45000, 55000]}\n",
        "\n",
        "df = pd.DataFrame(data)\n",
        "\n",
        "# Sort the DataFrame by 'Age' in ascending order and then by 'Salary' in descending order\n",
        "df_sorted = df.sort_values(by=['Age', 'Salary'], ascending=[True, False])\n",
        "\n",
        "# Display the sorted DataFrame\n",
        "print(df_sorted)\n"
      ],
      "metadata": {
        "id": "Gbqe_IfOnpH4",
        "outputId": "c35881df-afaf-430b-8695-aa069fb36ee9",
        "colab": {
          "base_uri": "https://localhost:8080/"
        }
      },
      "execution_count": null,
      "outputs": [
        {
          "output_type": "stream",
          "name": "stdout",
          "text": [
            "      Name  Age  Salary\n",
            "2  Charlie   22   45000\n",
            "0    Alice   25   50000\n",
            "3    David   28   55000\n",
            "1      Bob   30   60000\n"
          ]
        }
      ]
    },
    {
      "cell_type": "code",
      "source": [
        "#Select subset from a dataframe\n",
        "import pandas as pd\n",
        "\n",
        "# Create a sample DataFrame\n",
        "data = {'Name': ['Alice', 'Bob', 'Charlie', 'David'],\n",
        "        'Age': [25, 30, 22, 28],\n",
        "        'Salary': [50000, 60000, 45000, 55000]}\n",
        "\n",
        "df = pd.DataFrame(data)\n",
        "\n",
        "# Create a new DataFrame containing rows where 'Age' is greater than 25\n",
        "subset_df = df[df['Age'] > 25]\n",
        "\n",
        "# Display the new DataFrame\n",
        "print(subset_df)\n",
        "\n",
        "# Create a new DataFrame with selected columns\n",
        "selected_columns_df = df[['Name', 'Salary']]\n",
        "\n",
        "# Display the new DataFrame\n",
        "print(selected_columns_df)\n"
      ],
      "metadata": {
        "id": "NO15EJ7Eomkh",
        "outputId": "f3647ecd-7b36-40fa-c1d0-06028408d02b",
        "colab": {
          "base_uri": "https://localhost:8080/"
        }
      },
      "execution_count": null,
      "outputs": [
        {
          "output_type": "stream",
          "name": "stdout",
          "text": [
            "    Name  Age  Salary\n",
            "1    Bob   30   60000\n",
            "3  David   28   55000\n",
            "      Name  Salary\n",
            "0    Alice   50000\n",
            "1      Bob   60000\n",
            "2  Charlie   45000\n",
            "3    David   55000\n"
          ]
        }
      ]
    },
    {
      "cell_type": "code",
      "source": [
        "# AGG function to aggregate\n",
        "import pandas as pd\n",
        "\n",
        "# Create a sample DataFrame\n",
        "data = {'Group': ['A', 'A', 'B', 'B', 'A', 'B'],\n",
        "        'Value1': [10, 20, 30, 40, 50, 60],\n",
        "        'Value2': [100, 200, 300, 400, 500, 600]}\n",
        "df = pd.DataFrame(data)\n",
        "\n",
        "# Group by the 'Group' column and apply aggregation functions\n",
        "result = df.groupby('Group').agg({\n",
        "    'Value1': 'sum',        # Sum of 'Value1' within each group\n",
        "    'Value2': ['mean', 'max']  # Mean and maximum of 'Value2' within each group\n",
        "})\n",
        "\n",
        "print(result)\n"
      ],
      "metadata": {
        "id": "Pfxygz1Y9SrP",
        "outputId": "34fa9a0b-2e9f-4c5d-d2ec-328d82d6e6f2",
        "colab": {
          "base_uri": "https://localhost:8080/"
        }
      },
      "execution_count": 1,
      "outputs": [
        {
          "output_type": "stream",
          "name": "stdout",
          "text": [
            "      Value1      Value2     \n",
            "         sum        mean  max\n",
            "Group                        \n",
            "A         80  266.666667  500\n",
            "B        130  433.333333  600\n"
          ]
        }
      ]
    },
    {
      "cell_type": "code",
      "source": [
        "#Quantile\n",
        "import pandas as pd\n",
        "import numpy as np\n",
        "\n",
        "# Create a sample DataFrame\n",
        "data = {'Value': np.random.randint(1, 100, 10)}\n",
        "df = pd.DataFrame(data)\n",
        "\n",
        "print(\"Original DataFrame:\")\n",
        "print(df)\n",
        "\n",
        "# Calculate the 25th, 50th (median), and 75th percentiles (quantiles)\n",
        "quantiles = [0.25, 0.5, 0.75]\n",
        "result_quantiles = df['Value'].quantile(quantiles)\n",
        "\n",
        "print(\"\\nQuantiles:\")\n",
        "print(result_quantiles)\n"
      ],
      "metadata": {
        "id": "VMBetZg3laTm"
      },
      "execution_count": null,
      "outputs": []
    },
    {
      "cell_type": "code",
      "source": [
        "#Cumulative Max\n",
        "import pandas as pd\n",
        "\n",
        "# Create a pandas Series\n",
        "data = [3, 1, 7, 2, 8, 4]\n",
        "series = pd.Series(data, name='Values')\n",
        "\n",
        "# Calculate the cumulative maximum\n",
        "cumulative_max = series.cummax()\n",
        "\n",
        "# Display the original Series and the cumulative maximum Series\n",
        "print(\"Original Series:\")\n",
        "print(series)\n",
        "\n",
        "print(\"\\nCumulative Maximum:\")\n",
        "print(cumulative_max)\n"
      ],
      "metadata": {
        "id": "peV9feZvlrZE"
      },
      "execution_count": null,
      "outputs": []
    },
    {
      "cell_type": "code",
      "source": [
        "#Cumsum example\n",
        "import pandas as pd\n",
        "\n",
        "# Create a pandas Series\n",
        "data = [3, 1, 7, 2, 8, 4]\n",
        "series = pd.Series(data, name='Values')\n",
        "\n",
        "# Calculate the cumulative sum\n",
        "cumulative_sum = series.cumsum()\n",
        "\n",
        "# Display the original Series and the cumulative sum Series\n",
        "print(\"Original Series:\")\n",
        "print(series)\n",
        "\n",
        "print(\"\\nCumulative Sum:\")\n",
        "print(cumulative_sum)\n"
      ],
      "metadata": {
        "id": "jXN9B0d7lzsR"
      },
      "execution_count": null,
      "outputs": []
    },
    {
      "cell_type": "code",
      "source": [
        "#Dropping Duplicate\n",
        "import pandas as pd\n",
        "\n",
        "# Create a sample DataFrame with duplicate rows\n",
        "data = {'Name': ['Alice', 'Bob', 'Alice', 'Charlie', 'Bob'],\n",
        "        'Age': [25, 30, 25, 35, 30],\n",
        "        'City': ['New York', 'San Francisco', 'New York', 'Los Angeles', 'San Francisco']}\n",
        "\n",
        "df = pd.DataFrame(data)\n",
        "\n",
        "# Display the original DataFrame\n",
        "print(\"Original DataFrame:\")\n",
        "print(df)\n",
        "\n",
        "# Use drop_duplicates to remove duplicate rows based on all columns\n",
        "df_no_duplicates = df.drop_duplicates()\n",
        "\n",
        "# Display the DataFrame after removing duplicates\n",
        "print(\"\\nDataFrame after removing duplicates:\")\n",
        "print(df_no_duplicates)\n"
      ],
      "metadata": {
        "id": "xlqmtPtQmCrQ",
        "outputId": "38cc69c1-9c02-4b5a-9dc6-8cd6a46c1807",
        "colab": {
          "base_uri": "https://localhost:8080/"
        }
      },
      "execution_count": 3,
      "outputs": [
        {
          "output_type": "stream",
          "name": "stdout",
          "text": [
            "Original DataFrame:\n",
            "      Name  Age           City\n",
            "0    Alice   25       New York\n",
            "1      Bob   30  San Francisco\n",
            "2    Alice   25       New York\n",
            "3  Charlie   35    Los Angeles\n",
            "4      Bob   30  San Francisco\n",
            "\n",
            "DataFrame after removing duplicates:\n",
            "      Name  Age           City\n",
            "0    Alice   25       New York\n",
            "1      Bob   30  San Francisco\n",
            "3  Charlie   35    Los Angeles\n"
          ]
        }
      ]
    },
    {
      "cell_type": "code",
      "source": [
        "#Dropping duplicate based on a column\n",
        "import pandas as pd\n",
        "\n",
        "# Create a sample DataFrame with duplicate rows\n",
        "data = {'Name': ['Alice', 'Bob', 'Alice', 'Charlie', 'Bob'],\n",
        "        'Age': [25, 30, 25, 25, 25],\n",
        "        'City': ['New York', 'San Francisco', 'New York', 'Los Angeles', 'San Francisco']}\n",
        "\n",
        "df = pd.DataFrame(data)\n",
        "\n",
        "# Display the original DataFrame\n",
        "print(\"Original DataFrame:\")\n",
        "print(df)\n",
        "\n",
        "# Use drop_duplicates to remove duplicate rows based on all columns\n",
        "df_no_duplicates = df.drop_duplicates(subset=\"Age\")\n",
        "\n",
        "# Display the DataFrame after removing duplicates\n",
        "print(\"\\nDataFrame after removing duplicates:\")\n",
        "print(df_no_duplicates)\n"
      ],
      "metadata": {
        "id": "T9nBPg4ImNQu",
        "outputId": "9a6017d8-e09d-48ae-d2ac-730c7cc85d7e",
        "colab": {
          "base_uri": "https://localhost:8080/"
        }
      },
      "execution_count": 2,
      "outputs": [
        {
          "output_type": "stream",
          "name": "stdout",
          "text": [
            "Original DataFrame:\n",
            "      Name  Age           City\n",
            "0    Alice   25       New York\n",
            "1      Bob   30  San Francisco\n",
            "2    Alice   25       New York\n",
            "3  Charlie   25    Los Angeles\n",
            "4      Bob   25  San Francisco\n",
            "\n",
            "DataFrame after removing duplicates:\n",
            "    Name  Age           City\n",
            "0  Alice   25       New York\n",
            "1    Bob   30  San Francisco\n"
          ]
        }
      ]
    },
    {
      "cell_type": "code",
      "source": [
        "#Dropping on two columns\n",
        "#Dropping duplicate based on a column\n",
        "import pandas as pd\n",
        "\n",
        "# Create a sample DataFrame with duplicate rows\n",
        "data = {'Name': ['Alice', 'Bob', 'Alice', 'Charlie', 'Bob','Rnady'],\n",
        "        'Age': [25, 30, 25, 25, 25, 21],\n",
        "        'City': ['New York', 'San Francisco', 'New York', 'Los Angeles', 'San Francisco', \"NY\"]}\n",
        "\n",
        "df = pd.DataFrame(data)\n",
        "\n",
        "# Display the original DataFrame\n",
        "print(\"Original DataFrame:\")\n",
        "print(df)\n",
        "\n",
        "# Use drop_duplicates to remove duplicate rows based on all columns\n",
        "df_no_duplicates = df.drop_duplicates(subset=[\"Name\",\"Age\"])\n",
        "\n",
        "\n",
        "# Display the DataFrame after removing duplicates\n",
        "print(\"\\nDataFrame after removing duplicates:\")\n",
        "print(df_no_duplicates)\n",
        "\n",
        "print(\"\\nCount the names occurences\")\n",
        "print(df_no_duplicates[\"Name\"].value_counts())\n",
        "\n",
        "\n",
        "print(\"\\nCount the names occurences\")\n",
        "print(df_no_duplicates[\"Name\"].value_counts(sort=True))\n",
        "\n",
        "print(\"\\nCount the names occurences\")\n",
        "print(df_no_duplicates[\"Name\"].value_counts(normalize=True))\n"
      ],
      "metadata": {
        "id": "WamoNS1QmlUy",
        "outputId": "6c7a041d-b44f-40f5-ed93-f62c9be4fba5",
        "colab": {
          "base_uri": "https://localhost:8080/"
        }
      },
      "execution_count": 17,
      "outputs": [
        {
          "output_type": "stream",
          "name": "stdout",
          "text": [
            "Original DataFrame:\n",
            "      Name  Age           City\n",
            "0    Alice   25       New York\n",
            "1      Bob   30  San Francisco\n",
            "2    Alice   25       New York\n",
            "3  Charlie   25    Los Angeles\n",
            "4      Bob   25  San Francisco\n",
            "5    Rnady   21             NY\n",
            "\n",
            "DataFrame after removing duplicates:\n",
            "      Name  Age           City\n",
            "0    Alice   25       New York\n",
            "1      Bob   30  San Francisco\n",
            "3  Charlie   25    Los Angeles\n",
            "4      Bob   25  San Francisco\n",
            "5    Rnady   21             NY\n",
            "\n",
            "Count the names occurences\n",
            "Bob        2\n",
            "Alice      1\n",
            "Charlie    1\n",
            "Rnady      1\n",
            "Name: Name, dtype: int64\n",
            "\n",
            "Count the names occurences\n",
            "Bob        2\n",
            "Alice      1\n",
            "Charlie    1\n",
            "Rnady      1\n",
            "Name: Name, dtype: int64\n",
            "\n",
            "Count the names occurences\n",
            "Bob        0.4\n",
            "Alice      0.2\n",
            "Charlie    0.2\n",
            "Rnady      0.2\n",
            "Name: Name, dtype: float64\n"
          ]
        }
      ]
    }
  ]
}