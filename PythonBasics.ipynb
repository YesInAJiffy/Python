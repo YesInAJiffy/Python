{
  "nbformat": 4,
  "nbformat_minor": 0,
  "metadata": {
    "colab": {
      "provenance": [],
      "authorship_tag": "ABX9TyMa83iV5SASCCJxphXnhvY9",
      "include_colab_link": true
    },
    "kernelspec": {
      "name": "python3",
      "display_name": "Python 3"
    },
    "language_info": {
      "name": "python"
    }
  },
  "cells": [
    {
      "cell_type": "markdown",
      "metadata": {
        "id": "view-in-github",
        "colab_type": "text"
      },
      "source": [
        "<a href=\"https://colab.research.google.com/github/YesInAJiffy/Python/blob/main/PythonBasics.ipynb\" target=\"_parent\"><img src=\"https://colab.research.google.com/assets/colab-badge.svg\" alt=\"Open In Colab\"/></a>"
      ]
    },
    {
      "cell_type": "markdown",
      "source": [
        "**Variables**"
      ],
      "metadata": {
        "id": "B9_90Z7JjXSO"
      }
    },
    {
      "cell_type": "code",
      "execution_count": 2,
      "metadata": {
        "id": "7A67901aBBGf",
        "colab": {
          "base_uri": "https://localhost:8080/"
        },
        "outputId": "65b75522-d0a7-4871-ce68-9df8e1d8d543"
      },
      "outputs": [
        {
          "output_type": "stream",
          "name": "stdout",
          "text": [
            "150\n"
          ]
        }
      ],
      "source": [
        "# prompt: Variables\n",
        "\n",
        "x = 100\n",
        "y = 50\n",
        "print(x+y)\n"
      ]
    },
    {
      "cell_type": "markdown",
      "source": [
        "**Data Types**\n",
        "\n",
        "* float\n",
        "* int\n",
        "* str\n",
        "* bool (True, False)\n",
        "*italicized text*\n",
        "\n",
        "\n"
      ],
      "metadata": {
        "id": "FPoXqYB4gmMG"
      }
    },
    {
      "cell_type": "code",
      "source": [
        "i = 10\n",
        "j = 3.14\n",
        "k = \"Hello World\"\n",
        "\n",
        "print (type(i))\n",
        "print (type(j))\n",
        "print (type (k))"
      ],
      "metadata": {
        "colab": {
          "base_uri": "https://localhost:8080/"
        },
        "id": "5y8TJaePg0f1",
        "outputId": "64a7dea2-4deb-430e-d3b6-b3ccc4b629af"
      },
      "execution_count": 5,
      "outputs": [
        {
          "output_type": "stream",
          "name": "stdout",
          "text": [
            "<class 'int'>\n",
            "<class 'float'>\n",
            "<class 'str'>\n"
          ]
        }
      ]
    },
    {
      "cell_type": "code",
      "source": [
        "# Type Conversions\n",
        "\n",
        "print(\"Value of X is \" + str(x) + \" and y is \" + str(y) + \". Awesome!\")\n",
        "\n",
        "# Definition of pi_string\n",
        "pi_string = \"3.1415926\"\n",
        "\n",
        "# Convert pi_string into float: pi_float\n",
        "pi_float = float(pi_string)\n",
        "print(pi_float)"
      ],
      "metadata": {
        "colab": {
          "base_uri": "https://localhost:8080/"
        },
        "id": "eGam1VvGBE1S",
        "outputId": "fc37c594-c8f6-4193-9a8d-ba1af507857c"
      },
      "execution_count": 4,
      "outputs": [
        {
          "output_type": "stream",
          "name": "stdout",
          "text": [
            "Value of X is 100 and y50. Awesome!\n",
            "3.1415926\n"
          ]
        }
      ]
    },
    {
      "cell_type": "markdown",
      "source": [
        "**LISTS**"
      ],
      "metadata": {
        "id": "bK5bTpwsh3GA"
      }
    },
    {
      "cell_type": "code",
      "source": [
        "# prompt: lists in python\n",
        "\n",
        "\n",
        "# List of numbers\n",
        "numbers = [1, 2, 3, 4, 5]\n",
        "\n",
        "# List of strings\n",
        "names = [\"John\", \"Mary\", \"Bob\", \"Alice\"]\n",
        "\n",
        "# List of mixed types\n",
        "mixed_list = [1, \"Hello\", 3.14, True]\n",
        "\n",
        "# Accessing elements of a list\n",
        "print(numbers[0])  # 1\n",
        "print(names[2])  # Bob\n",
        "print(mixed_list[3])  # True\n",
        "\n",
        "# Adding elements to a list\n",
        "numbers.append(6)  # [1, 2, 3, 4, 5, 6]\n",
        "names.insert(0, \"William\")  # [\"William\", \"John\", \"Mary\", \"Bob\", \"Alice\"]\n",
        "mixed_list.extend([5, \"World\"])  # [1, \"Hello\", 3.14, True, 5, \"World\"]\n",
        "\n",
        "# Removing elements from a list\n",
        "numbers.remove(3)  # [1, 2, 4, 5, 6]\n",
        "names.pop()  # [\"William\", \"John\", \"Mary\", \"Bob\"]\n",
        "mixed_list.pop(1)  # [1, 3.14, True, 5, \"World\"]\n",
        "\n",
        "# Slicing a list\n",
        "print(numbers[1:4])  # [2, 4, 5]\n",
        "print(names[:3])  # [\"William\", \"John\", \"Mary\"]\n",
        "print(mixed_list[2:])  # [True, 5, \"World\"]\n",
        "\n",
        "# Sorting a list\n",
        "numbers.sort()  # [1, 2, 4, 5, 6]\n",
        "names.sort()  # [\"Alice\", \"Bob\", \"John\", \"Mary\", \"William\"]\n",
        "#mixed_list.sort()  # [1, 3.14, 5, \"Hello\", \"True\", \"World\"]\n",
        "\n",
        "# Reversing a list\n",
        "numbers.reverse()  # [6, 5, 4, 2, 1]\n",
        "names.reverse()  # [\"William\", \"Mary\", \"Bob\", \"John\", \"Alice\"]\n",
        "mixed_list.reverse()  # [\"World\", \"True\", 5, \"Hello\", 3.14, 1]\n"
      ],
      "metadata": {
        "colab": {
          "base_uri": "https://localhost:8080/"
        },
        "id": "DyhPpz9jihgU",
        "outputId": "15527ee8-6b56-4dee-f8b4-464117b09091"
      },
      "execution_count": 7,
      "outputs": [
        {
          "output_type": "stream",
          "name": "stdout",
          "text": [
            "1\n",
            "Bob\n",
            "True\n",
            "[2, 4, 5]\n",
            "['William', 'John', 'Mary']\n",
            "[True, 5, 'World']\n"
          ]
        }
      ]
    },
    {
      "cell_type": "markdown",
      "source": [
        "**INDEXING AND SLICING in LISTS**\n",
        "\n",
        "\n",
        "*   Python uses Zero Based Indexing\n",
        "*.  For accessing any element place the square bracket and the index of element. The first element is 0\n",
        "*   Negative indexes can be useful in certain cases for e.g. to access the last element of this list (list[-1]).\n",
        "\n",
        "**SLICING**\n",
        "\n",
        "Slicing is [Inclusive:Exclusive]\n",
        "\n"
      ],
      "metadata": {
        "id": "15cf7xyOoPtt"
      }
    },
    {
      "cell_type": "code",
      "source": [
        "numbers = [1, 2, 3, 4, 5]\n",
        "\n",
        "#Print the first element\n",
        "print(numbers[0])\n",
        "\n",
        "#Print the last element\n",
        "print(numbers[-1])\n",
        "\n",
        "firstThree = numbers[:3]\n",
        "print(firstThree)\n",
        "\n",
        "lastTwo = numbers[3:]\n",
        "print(lastTwo)\n",
        "\n",
        "all = numbers[:]\n",
        "print(all)"
      ],
      "metadata": {
        "id": "86BXgQAZoVTF",
        "outputId": "0fb67f87-e920-4970-82ad-9a24a6f8b550",
        "colab": {
          "base_uri": "https://localhost:8080/"
        }
      },
      "execution_count": 10,
      "outputs": [
        {
          "output_type": "stream",
          "name": "stdout",
          "text": [
            "1\n",
            "5\n",
            "[1, 2, 3]\n",
            "[4, 5]\n",
            "[1, 2, 3, 4, 5]\n"
          ]
        }
      ]
    },
    {
      "cell_type": "code",
      "source": [
        "# prompt: list of lists\n",
        "\n",
        "a = [[1, 2, 3], [4, 5, 6]]\n",
        "print(a[0])  # [1, 2, 3]\n",
        "print(a[1][1])  # 5\n",
        "print(a[-1][1]) #same as above\n"
      ],
      "metadata": {
        "id": "C-OcOlfyrcaO",
        "outputId": "f289524f-f97c-43c4-c679-32b3458b029e",
        "colab": {
          "base_uri": "https://localhost:8080/"
        }
      },
      "execution_count": 12,
      "outputs": [
        {
          "output_type": "stream",
          "name": "stdout",
          "text": [
            "[1, 2, 3]\n",
            "5\n",
            "5\n"
          ]
        }
      ]
    }
  ]
}