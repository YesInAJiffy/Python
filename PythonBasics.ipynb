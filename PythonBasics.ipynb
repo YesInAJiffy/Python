{
  "nbformat": 4,
  "nbformat_minor": 0,
  "metadata": {
    "colab": {
      "provenance": [],
      "authorship_tag": "ABX9TyN2tXIBqZgZ4z3zBjMSMubX",
      "include_colab_link": true
    },
    "kernelspec": {
      "name": "python3",
      "display_name": "Python 3"
    },
    "language_info": {
      "name": "python"
    }
  },
  "cells": [
    {
      "cell_type": "markdown",
      "metadata": {
        "id": "view-in-github",
        "colab_type": "text"
      },
      "source": [
        "<a href=\"https://colab.research.google.com/github/YesInAJiffy/Python/blob/main/PythonBasics.ipynb\" target=\"_parent\"><img src=\"https://colab.research.google.com/assets/colab-badge.svg\" alt=\"Open In Colab\"/></a>"
      ]
    },
    {
      "cell_type": "code",
      "execution_count": 2,
      "metadata": {
        "id": "7A67901aBBGf",
        "outputId": "65b75522-d0a7-4871-ce68-9df8e1d8d543",
        "colab": {
          "base_uri": "https://localhost:8080/"
        }
      },
      "outputs": [
        {
          "output_type": "stream",
          "name": "stdout",
          "text": [
            "150\n"
          ]
        }
      ],
      "source": [
        "# prompt: Variables\n",
        "\n",
        "x = 100\n",
        "y = 50\n",
        "print(x+y)\n"
      ]
    },
    {
      "cell_type": "code",
      "source": [
        "# Type Conversions\n",
        "\n",
        "print(\"Value of X is \" + str(x) + \" and y is \" + str(y) + \". Awesome!\")\n",
        "\n",
        "# Definition of pi_string\n",
        "pi_string = \"3.1415926\"\n",
        "\n",
        "# Convert pi_string into float: pi_float\n",
        "pi_float = float(pi_string)\n",
        "print(pi_float)"
      ],
      "metadata": {
        "colab": {
          "base_uri": "https://localhost:8080/"
        },
        "id": "eGam1VvGBE1S",
        "outputId": "fc37c594-c8f6-4193-9a8d-ba1af507857c"
      },
      "execution_count": 4,
      "outputs": [
        {
          "output_type": "stream",
          "name": "stdout",
          "text": [
            "Value of X is 100 and y50. Awesome!\n",
            "3.1415926\n"
          ]
        }
      ]
    }
  ]
}