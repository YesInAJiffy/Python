{
  "nbformat": 4,
  "nbformat_minor": 0,
  "metadata": {
    "colab": {
      "provenance": [],
      "authorship_tag": "ABX9TyPcYSxnZc0kQxmHMaHzNXA/",
      "include_colab_link": true
    },
    "kernelspec": {
      "name": "python3",
      "display_name": "Python 3"
    },
    "language_info": {
      "name": "python"
    }
  },
  "cells": [
    {
      "cell_type": "markdown",
      "metadata": {
        "id": "view-in-github",
        "colab_type": "text"
      },
      "source": [
        "<a href=\"https://colab.research.google.com/github/YesInAJiffy/Python/blob/main/PythonBasics.ipynb\" target=\"_parent\"><img src=\"https://colab.research.google.com/assets/colab-badge.svg\" alt=\"Open In Colab\"/></a>"
      ]
    },
    {
      "cell_type": "markdown",
      "source": [
        "**Variables**"
      ],
      "metadata": {
        "id": "B9_90Z7JjXSO"
      }
    },
    {
      "cell_type": "code",
      "execution_count": 2,
      "metadata": {
        "id": "7A67901aBBGf",
        "colab": {
          "base_uri": "https://localhost:8080/"
        },
        "outputId": "65b75522-d0a7-4871-ce68-9df8e1d8d543"
      },
      "outputs": [
        {
          "output_type": "stream",
          "name": "stdout",
          "text": [
            "150\n"
          ]
        }
      ],
      "source": [
        "# prompt: Variables\n",
        "\n",
        "x = 100\n",
        "y = 50\n",
        "print(x+y)\n"
      ]
    },
    {
      "cell_type": "markdown",
      "source": [
        "**Data Types**\n",
        "\n",
        "* float\n",
        "* int\n",
        "* str\n",
        "* bool (True, False)\n",
        "*italicized text*\n",
        "\n",
        "\n"
      ],
      "metadata": {
        "id": "FPoXqYB4gmMG"
      }
    },
    {
      "cell_type": "code",
      "source": [
        "i = 10\n",
        "j = 3.14\n",
        "k = \"Hello World\"\n",
        "\n",
        "print (type(i))\n",
        "print (type(j))\n",
        "print (type (k))"
      ],
      "metadata": {
        "colab": {
          "base_uri": "https://localhost:8080/"
        },
        "id": "5y8TJaePg0f1",
        "outputId": "64a7dea2-4deb-430e-d3b6-b3ccc4b629af"
      },
      "execution_count": 5,
      "outputs": [
        {
          "output_type": "stream",
          "name": "stdout",
          "text": [
            "<class 'int'>\n",
            "<class 'float'>\n",
            "<class 'str'>\n"
          ]
        }
      ]
    },
    {
      "cell_type": "code",
      "source": [
        "# Type Conversions\n",
        "\n",
        "print(\"Value of X is \" + str(x) + \" and y is \" + str(y) + \". Awesome!\")\n",
        "\n",
        "# Definition of pi_string\n",
        "pi_string = \"3.1415926\"\n",
        "\n",
        "# Convert pi_string into float: pi_float\n",
        "pi_float = float(pi_string)\n",
        "print(pi_float)"
      ],
      "metadata": {
        "colab": {
          "base_uri": "https://localhost:8080/"
        },
        "id": "eGam1VvGBE1S",
        "outputId": "fc37c594-c8f6-4193-9a8d-ba1af507857c"
      },
      "execution_count": 4,
      "outputs": [
        {
          "output_type": "stream",
          "name": "stdout",
          "text": [
            "Value of X is 100 and y50. Awesome!\n",
            "3.1415926\n"
          ]
        }
      ]
    },
    {
      "cell_type": "markdown",
      "source": [
        "**LISTS**"
      ],
      "metadata": {
        "id": "bK5bTpwsh3GA"
      }
    },
    {
      "cell_type": "code",
      "source": [
        "# prompt: lists in python\n",
        "\n",
        "\n",
        "# List of numbers\n",
        "numbers = [1, 2, 3, 4, 5]\n",
        "\n",
        "# List of strings\n",
        "names = [\"John\", \"Mary\", \"Bob\", \"Alice\"]\n",
        "\n",
        "# List of mixed types\n",
        "mixed_list = [1, \"Hello\", 3.14, True]\n",
        "\n",
        "# Accessing elements of a list\n",
        "print(numbers[0])  # 1\n",
        "print(names[2])  # Bob\n",
        "print(mixed_list[3])  # True\n",
        "\n",
        "# Adding elements to a list\n",
        "numbers.append(6)  # [1, 2, 3, 4, 5, 6]\n",
        "names.insert(0, \"William\")  # [\"William\", \"John\", \"Mary\", \"Bob\", \"Alice\"]\n",
        "mixed_list.extend([5, \"World\"])  # [1, \"Hello\", 3.14, True, 5, \"World\"]\n",
        "\n",
        "# Removing elements from a list\n",
        "numbers.remove(3)  # [1, 2, 4, 5, 6]\n",
        "names.pop()  # [\"William\", \"John\", \"Mary\", \"Bob\"]\n",
        "mixed_list.pop(1)  # [1, 3.14, True, 5, \"World\"]\n",
        "\n",
        "# Slicing a list\n",
        "print(numbers[1:4])  # [2, 4, 5]\n",
        "print(names[:3])  # [\"William\", \"John\", \"Mary\"]\n",
        "print(mixed_list[2:])  # [True, 5, \"World\"]\n",
        "\n",
        "# Sorting a list\n",
        "numbers.sort()  # [1, 2, 4, 5, 6]\n",
        "names.sort()  # [\"Alice\", \"Bob\", \"John\", \"Mary\", \"William\"]\n",
        "#mixed_list.sort()  # [1, 3.14, 5, \"Hello\", \"True\", \"World\"]\n",
        "\n",
        "# Reversing a list\n",
        "numbers.reverse()  # [6, 5, 4, 2, 1]\n",
        "names.reverse()  # [\"William\", \"Mary\", \"Bob\", \"John\", \"Alice\"]\n",
        "mixed_list.reverse()  # [\"World\", \"True\", 5, \"Hello\", 3.14, 1]\n"
      ],
      "metadata": {
        "colab": {
          "base_uri": "https://localhost:8080/"
        },
        "id": "DyhPpz9jihgU",
        "outputId": "15527ee8-6b56-4dee-f8b4-464117b09091"
      },
      "execution_count": 7,
      "outputs": [
        {
          "output_type": "stream",
          "name": "stdout",
          "text": [
            "1\n",
            "Bob\n",
            "True\n",
            "[2, 4, 5]\n",
            "['William', 'John', 'Mary']\n",
            "[True, 5, 'World']\n"
          ]
        }
      ]
    },
    {
      "cell_type": "markdown",
      "source": [
        "**INDEXING AND SLICING in LISTS**\n",
        "\n",
        "\n",
        "*   Python uses Zero Based Indexing\n",
        "*.  For accessing any element place the square bracket and the index of element. The first element is 0\n",
        "*   Negative indexes can be useful in certain cases for e.g. to access the last element of this list (list[-1]).\n",
        "\n",
        "**SLICING**\n",
        "\n",
        "Slicing is [Inclusive:Exclusive]\n",
        "\n"
      ],
      "metadata": {
        "id": "15cf7xyOoPtt"
      }
    },
    {
      "cell_type": "code",
      "source": [
        "numbers = [1, 2, 3, 4, 5]\n",
        "\n",
        "#Print the first element\n",
        "print(numbers[0])\n",
        "\n",
        "#Print the last element\n",
        "print(numbers[-1])\n",
        "\n",
        "firstThree = numbers[:3]\n",
        "print(firstThree)\n",
        "\n",
        "lastTwo = numbers[3:]\n",
        "print(lastTwo)\n",
        "\n",
        "all = numbers[:]\n",
        "print(all)"
      ],
      "metadata": {
        "colab": {
          "base_uri": "https://localhost:8080/"
        },
        "id": "86BXgQAZoVTF",
        "outputId": "0fb67f87-e920-4970-82ad-9a24a6f8b550"
      },
      "execution_count": 10,
      "outputs": [
        {
          "output_type": "stream",
          "name": "stdout",
          "text": [
            "1\n",
            "5\n",
            "[1, 2, 3]\n",
            "[4, 5]\n",
            "[1, 2, 3, 4, 5]\n"
          ]
        }
      ]
    },
    {
      "cell_type": "code",
      "source": [
        "# prompt: list of lists\n",
        "\n",
        "a = [[1, 2, 3], [4, 5, 6]]\n",
        "print(a[0])  # [1, 2, 3]\n",
        "print(a[1][1])  # 5\n",
        "print(a[-1][1]) #same as above\n"
      ],
      "metadata": {
        "colab": {
          "base_uri": "https://localhost:8080/"
        },
        "id": "C-OcOlfyrcaO",
        "outputId": "f289524f-f97c-43c4-c679-32b3458b029e"
      },
      "execution_count": 12,
      "outputs": [
        {
          "output_type": "stream",
          "name": "stdout",
          "text": [
            "[1, 2, 3]\n",
            "5\n",
            "5\n"
          ]
        }
      ]
    },
    {
      "cell_type": "markdown",
      "source": [
        "**LIST MANIPULATIONS**\n",
        "\n",
        "* Remember when you copy a list, it copies only reference. Eg. x = y; if you make changes in y, x is also changed. So when you need to maintain copies you do like 1) x = y[:] OR 2. x = list(y)\n",
        "* you can extend a list simply by using +"
      ],
      "metadata": {
        "id": "P12W-yBAOrmq"
      }
    },
    {
      "cell_type": "code",
      "source": [
        "\n",
        "x = [\"a\", \"b\", \"c\", \"d\"]\n",
        "y = x + [\"e\", \"f\"]\n",
        "\n",
        "print(x)\n",
        "print(y)\n",
        "\n",
        "del(y[4])\n",
        "print(y)"
      ],
      "metadata": {
        "colab": {
          "base_uri": "https://localhost:8080/"
        },
        "id": "1GqYxq9bPAZ6",
        "outputId": "70c1d379-ef81-43f6-e7b3-5ed95463e5ac"
      },
      "execution_count": 2,
      "outputs": [
        {
          "output_type": "stream",
          "name": "stdout",
          "text": [
            "['a', 'b', 'c', 'd']\n",
            "['a', 'b', 'c', 'd', 'e', 'f']\n",
            "['a', 'b', 'c', 'd', 'f']\n"
          ]
        }
      ]
    },
    {
      "cell_type": "code",
      "source": [],
      "metadata": {
        "id": "qIlaeGyGhaZJ"
      },
      "execution_count": null,
      "outputs": []
    },
    {
      "cell_type": "markdown",
      "source": [
        "**Functions**"
      ],
      "metadata": {
        "id": "ty2z-H-ghbjg"
      }
    },
    {
      "cell_type": "code",
      "source": [
        "# prompt: functions in Python\n",
        "\n",
        "def add(a, b):\n",
        "  \"\"\"This function adds two numbers together.\"\"\"\n",
        "  return a + b\n",
        "\n",
        "\n",
        "def subtract(a, b):\n",
        "  \"\"\"This function subtracts two numbers from each other.\"\"\"\n",
        "  return a - b\n",
        "\n",
        "\n",
        "def multiply(a, b):\n",
        "  \"\"\"This function multiplies two numbers together.\"\"\"\n",
        "  return a * b\n",
        "\n",
        "\n",
        "def divide(a, b):\n",
        "  \"\"\"This function divides two numbers.\"\"\"\n",
        "  return a / b\n",
        "\n",
        "\n",
        "def main():\n",
        "  \"\"\"This is the main function.\"\"\"\n",
        "  # Get two numbers from the user.\n",
        "  a = float(input(\"Enter a number: \"))\n",
        "  b = float(input(\"Enter another number: \"))\n",
        "\n",
        "  # Calculate the sum, difference, product, and quotient of the two numbers.\n",
        "  sum = add(a, b)\n",
        "  difference = subtract(a, b)\n",
        "  product = multiply(a, b)\n",
        "  quotient = divide(a, b)\n",
        "\n",
        "  # Print the results.\n",
        "  print(\"The sum is:\", sum)\n",
        "  print(\"The difference is:\", difference)\n",
        "  print(\"The product is:\", product)\n",
        "  print(\"The quotient is:\", quotient)\n",
        "\n",
        "\n",
        "if __name__ == \"__main__\":\n",
        "  main()\n"
      ],
      "metadata": {
        "colab": {
          "base_uri": "https://localhost:8080/"
        },
        "id": "S_EE8IM3hd13",
        "outputId": "5f4d69e4-10b3-4ed7-c83d-6314e9f9fcc2"
      },
      "execution_count": 3,
      "outputs": [
        {
          "output_type": "stream",
          "name": "stdout",
          "text": [
            "Enter a number: 4\n",
            "Enter another number: 3\n",
            "The sum is: 7.0\n",
            "The difference is: 1.0\n",
            "The product is: 12.0\n",
            "The quotient is: 1.3333333333333333\n"
          ]
        }
      ]
    },
    {
      "cell_type": "markdown",
      "source": [
        "**NUMPY**"
      ],
      "metadata": {
        "id": "Wzbp_E_Gky1y"
      }
    },
    {
      "cell_type": "code",
      "source": [
        "#What is the problem with lists\n",
        "#let's say we have two lists, one containing the lenght of rectangles and second containing width of rectangles.\n",
        "#Now if we need to create the area\n",
        "\n",
        "length = [5,6,7,8]\n",
        "width = [1,2,3,4]\n",
        "\n",
        "#calculating area would be such\n",
        "A1 = length[0] * width[0]\n",
        "A2 = length[1] * width[1]\n",
        "A3 = length[2] * width[2]\n",
        "A4 = length[3] * width[3]\n",
        "\n",
        "print(\"Area 1 =\" + str(A1) + \" Area 2 =\" + str(A2))\n",
        "\n",
        "from numpy import array\n",
        "lenArr = array([5,6,7,8])\n",
        "widArr = array([1,2,3,4])\n",
        "\n",
        "#You can calculate area in one step, instead of iterating through the lists\n",
        "AreaArr = lenArr * widArr\n",
        "print(AreaArr)"
      ],
      "metadata": {
        "id": "YzCmnsKQk1Et",
        "outputId": "2e56aa92-f7cc-4ac2-bcc0-049cc5e97457",
        "colab": {
          "base_uri": "https://localhost:8080/"
        }
      },
      "execution_count": 7,
      "outputs": [
        {
          "output_type": "stream",
          "name": "stdout",
          "text": [
            "Area 1 =5 Area 2 =12\n",
            "[ 5 12 21 32]\n"
          ]
        }
      ]
    }
  ]
}