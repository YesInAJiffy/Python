{
  "nbformat": 4,
  "nbformat_minor": 0,
  "metadata": {
    "colab": {
      "provenance": [],
      "authorship_tag": "ABX9TyOhlE8EcW9wSXso5dSoTyOy",
      "include_colab_link": true
    },
    "kernelspec": {
      "name": "python3",
      "display_name": "Python 3"
    },
    "language_info": {
      "name": "python"
    }
  },
  "cells": [
    {
      "cell_type": "markdown",
      "metadata": {
        "id": "view-in-github",
        "colab_type": "text"
      },
      "source": [
        "<a href=\"https://colab.research.google.com/github/YesInAJiffy/Python/blob/main/StockAnalysis.ipynb\" target=\"_parent\"><img src=\"https://colab.research.google.com/assets/colab-badge.svg\" alt=\"Open In Colab\"/></a>"
      ]
    },
    {
      "cell_type": "code",
      "execution_count": 2,
      "metadata": {
        "colab": {
          "base_uri": "https://localhost:8080/"
        },
        "id": "p41VyqvRkPh4",
        "outputId": "71d28686-c934-4342-b065-efc8f56122a9"
      },
      "outputs": [
        {
          "output_type": "stream",
          "name": "stdout",
          "text": [
            "{'address1': 'One Apple Park Way', 'city': 'Cupertino', 'state': 'CA', 'zip': '95014', 'country': 'United States', 'phone': '408 996 1010', 'website': 'https://www.apple.com', 'industry': 'Consumer Electronics', 'industryKey': 'consumer-electronics', 'industryDisp': 'Consumer Electronics', 'sector': 'Technology', 'sectorKey': 'technology', 'sectorDisp': 'Technology', 'longBusinessSummary': 'Apple Inc. designs, manufactures, and markets smartphones, personal computers, tablets, wearables, and accessories worldwide. The company offers iPhone, a line of smartphones; Mac, a line of personal computers; iPad, a line of multi-purpose tablets; and wearables, home, and accessories comprising AirPods, Apple TV, Apple Watch, Beats products, and HomePod. It also provides AppleCare support and cloud services; and operates various platforms, including the App Store that allow customers to discover and download applications and digital content, such as books, music, video, games, and podcasts. In addition, the company offers various services, such as Apple Arcade, a game subscription service; Apple Fitness+, a personalized fitness service; Apple Music, which offers users a curated listening experience with on-demand radio stations; Apple News+, a subscription news and magazine service; Apple TV+, which offers exclusive original content; Apple Card, a co-branded credit card; and Apple Pay, a cashless payment service, as well as licenses its intellectual property. The company serves consumers, and small and mid-sized businesses; and the education, enterprise, and government markets. It distributes third-party applications for its products through the App Store. The company also sells its products through its retail and online stores, and direct sales force; and third-party cellular network carriers, wholesalers, retailers, and resellers. Apple Inc. was founded in 1976 and is headquartered in Cupertino, California.', 'fullTimeEmployees': 161000, 'companyOfficers': [{'maxAge': 1, 'name': 'Mr. Timothy D. Cook', 'age': 61, 'title': 'CEO & Director', 'yearBorn': 1961, 'fiscalYear': 2022, 'totalPay': 16425933, 'exercisedValue': 0, 'unexercisedValue': 0}, {'maxAge': 1, 'name': 'Mr. Luca  Maestri', 'age': 59, 'title': 'CFO & Senior VP', 'yearBorn': 1963, 'fiscalYear': 2022, 'totalPay': 5019783, 'exercisedValue': 0, 'unexercisedValue': 0}, {'maxAge': 1, 'name': 'Mr. Jeffrey E. Williams', 'age': 58, 'title': 'Chief Operating Officer', 'yearBorn': 1964, 'fiscalYear': 2022, 'totalPay': 5018337, 'exercisedValue': 0, 'unexercisedValue': 0}, {'maxAge': 1, 'name': 'Ms. Katherine L. Adams', 'age': 58, 'title': 'Senior VP, General Counsel & Secretary', 'yearBorn': 1964, 'fiscalYear': 2022, 'totalPay': 5015208, 'exercisedValue': 0, 'unexercisedValue': 0}, {'maxAge': 1, 'name': \"Ms. Deirdre  O'Brien\", 'age': 55, 'title': 'Senior Vice President of Retail', 'yearBorn': 1967, 'fiscalYear': 2022, 'totalPay': 5019783, 'exercisedValue': 0, 'unexercisedValue': 0}, {'maxAge': 1, 'name': 'Mr. Chris  Kondo', 'title': 'Senior Director of Corporate Accounting', 'fiscalYear': 2022, 'exercisedValue': 0, 'unexercisedValue': 0}, {'maxAge': 1, 'name': 'Mr. James  Wilson', 'title': 'Chief Technology Officer', 'fiscalYear': 2022, 'exercisedValue': 0, 'unexercisedValue': 0}, {'maxAge': 1, 'name': 'Suhasini  Chandramouli', 'title': 'Director of Investor Relations', 'fiscalYear': 2022, 'exercisedValue': 0, 'unexercisedValue': 0}, {'maxAge': 1, 'name': 'Mr. Greg  Joswiak', 'title': 'Senior Vice President of Worldwide Marketing', 'fiscalYear': 2022, 'exercisedValue': 0, 'unexercisedValue': 0}, {'maxAge': 1, 'name': 'Mr. Adrian  Perica', 'age': 48, 'title': 'Head of Corporate Development', 'yearBorn': 1974, 'fiscalYear': 2022, 'exercisedValue': 0, 'unexercisedValue': 0}], 'auditRisk': 4, 'boardRisk': 1, 'compensationRisk': 6, 'shareHolderRightsRisk': 1, 'overallRisk': 1, 'governanceEpochDate': 1701388800, 'compensationAsOfEpochDate': 1672444800, 'maxAge': 86400, 'priceHint': 2, 'previousClose': 194.68, 'open': 195.18, 'dayLow': 192.97, 'dayHigh': 195.41, 'regularMarketPreviousClose': 194.68, 'regularMarketOpen': 195.18, 'regularMarketDayLow': 192.97, 'regularMarketDayHigh': 195.41, 'dividendRate': 0.96, 'dividendYield': 0.005, 'exDividendDate': 1699574400, 'payoutRatio': 0.1533, 'fiveYearAvgDividendYield': 0.82, 'beta': 1.308, 'trailingPE': 31.530947, 'forwardPE': 27.076923, 'volume': 37009020, 'regularMarketVolume': 37009020, 'averageVolume': 54174793, 'averageVolume10days': 61144720, 'averageDailyVolume10Day': 61144720, 'bid': 193.57, 'ask': 193.59, 'bidSize': 800, 'askSize': 1000, 'marketCap': 3027807240192, 'fiftyTwoWeekLow': 124.17, 'fiftyTwoWeekHigh': 199.62, 'priceToSalesTrailing12Months': 7.8996234, 'fiftyDayAverage': 185.3988, 'twoHundredDayAverage': 178.6491, 'trailingAnnualDividendRate': 0.94, 'trailingAnnualDividendYield': 0.0048284368, 'currency': 'USD', 'enterpriseValue': 3073387790336, 'profitMargins': 0.25305998, 'floatShares': 15535488445, 'sharesOutstanding': 15552799744, 'sharesShort': 110653413, 'sharesShortPriorMonth': 98190963, 'sharesShortPreviousMonthDate': 1698710400, 'dateShortInterest': 1701302400, 'sharesPercentSharesOut': 0.0070999996, 'heldPercentInsiders': 0.00074, 'heldPercentInstitutions': 0.61667, 'shortRatio': 2.13, 'shortPercentOfFloat': 0.0070999996, 'impliedSharesOutstanding': 15639499776, 'bookValue': 3.997, 'priceToBook': 48.43633, 'lastFiscalYearEnd': 1696032000, 'nextFiscalYearEnd': 1727654400, 'mostRecentQuarter': 1696032000, 'earningsQuarterlyGrowth': 0.108, 'netIncomeToCommon': 96995000320, 'trailingEps': 6.14, 'forwardEps': 7.15, 'pegRatio': 4.83, 'lastSplitFactor': '4:1', 'lastSplitDate': 1598832000, 'enterpriseToRevenue': 8.019, 'enterpriseToEbitda': 24.427, '52WeekChange': 0.4888872, 'SandP52WeekChange': 0.24166095, 'lastDividendValue': 0.24, 'lastDividendDate': 1699574400, 'exchange': 'NMS', 'quoteType': 'EQUITY', 'symbol': 'AAPL', 'underlyingSymbol': 'AAPL', 'shortName': 'Apple Inc.', 'longName': 'Apple Inc.', 'firstTradeDateEpochUtc': 345479400, 'timeZoneFullName': 'America/New_York', 'timeZoneShortName': 'EST', 'uuid': '8b10e4ae-9eeb-3684-921a-9ab27e4d87aa', 'messageBoardId': 'finmb_24937', 'gmtOffSetMilliseconds': -18000000, 'currentPrice': 193.6, 'targetHighPrice': 250.0, 'targetLowPrice': 159.0, 'targetMeanPrice': 198.52, 'targetMedianPrice': 200.0, 'recommendationMean': 2.1, 'recommendationKey': 'buy', 'numberOfAnalystOpinions': 39, 'totalCash': 61554999296, 'totalCashPerShare': 3.958, 'ebitda': 125820002304, 'totalDebt': 123930001408, 'quickRatio': 0.843, 'currentRatio': 0.988, 'totalRevenue': 383285002240, 'debtToEquity': 199.418, 'revenuePerShare': 24.344, 'returnOnAssets': 0.20256001, 'returnOnEquity': 1.7195, 'grossProfits': 170782000000, 'freeCashflow': 82179997696, 'operatingCashflow': 110543003648, 'earningsGrowth': 0.135, 'revenueGrowth': -0.007, 'grossMargins': 0.44131002, 'ebitdaMargins': 0.32827, 'operatingMargins': 0.30134, 'financialCurrency': 'USD', 'trailingPegRatio': 2.3206}\n",
            "                                 Open        High         Low       Close  \\\n",
            "Date                                                                        \n",
            "2018-12-24 00:00:00-05:00   35.548997   36.364839   35.174672   35.232262   \n",
            "2018-12-26 00:00:00-05:00   35.584995   37.727772   35.205869   37.713375   \n",
            "2018-12-27 00:00:00-05:00   37.394228   37.617386   36.009703   37.468613   \n",
            "2018-12-28 00:00:00-05:00   37.792549   38.037302   37.084689   37.487808   \n",
            "2018-12-31 00:00:00-05:00   38.039708   38.238870   37.547804   37.850147   \n",
            "...                               ...         ...         ...         ...   \n",
            "2023-12-18 00:00:00-05:00  196.089996  196.630005  194.389999  195.889999   \n",
            "2023-12-19 00:00:00-05:00  196.160004  196.949997  195.889999  196.940002   \n",
            "2023-12-20 00:00:00-05:00  196.899994  197.679993  194.830002  194.830002   \n",
            "2023-12-21 00:00:00-05:00  196.100006  197.080002  193.500000  194.679993   \n",
            "2023-12-22 00:00:00-05:00  195.179993  195.410004  192.970001  193.600006   \n",
            "\n",
            "                              Volume  Dividends  Stock Splits  \n",
            "Date                                                           \n",
            "2018-12-24 00:00:00-05:00  148676800        0.0           0.0  \n",
            "2018-12-26 00:00:00-05:00  234330000        0.0           0.0  \n",
            "2018-12-27 00:00:00-05:00  212468400        0.0           0.0  \n",
            "2018-12-28 00:00:00-05:00  169165600        0.0           0.0  \n",
            "2018-12-31 00:00:00-05:00  140014000        0.0           0.0  \n",
            "...                              ...        ...           ...  \n",
            "2023-12-18 00:00:00-05:00   55751900        0.0           0.0  \n",
            "2023-12-19 00:00:00-05:00   40714100        0.0           0.0  \n",
            "2023-12-20 00:00:00-05:00   52242800        0.0           0.0  \n",
            "2023-12-21 00:00:00-05:00   46482500        0.0           0.0  \n",
            "2023-12-22 00:00:00-05:00   37122800        0.0           0.0  \n",
            "\n",
            "[1259 rows x 7 columns]\n"
          ]
        }
      ],
      "source": [
        "# prompt: use yfinance\n",
        "\n",
        "import yfinance as yf\n",
        "ticker = yf.Ticker('AAPL')\n",
        "print(ticker.info)\n",
        "\n",
        "ticker = yf.Ticker('AAPL')\n",
        "df = ticker.history(period=\"5y\")\n",
        "print(df)\n"
      ]
    },
    {
      "cell_type": "code",
      "source": [
        "!pip install yahooquery\n"
      ],
      "metadata": {
        "colab": {
          "base_uri": "https://localhost:8080/"
        },
        "id": "UNvwhJLwlWvv",
        "outputId": "0b8fdd45-ad29-4601-b413-004aa0593dbc"
      },
      "execution_count": 13,
      "outputs": [
        {
          "output_type": "stream",
          "name": "stdout",
          "text": [
            "Collecting yahooquery\n",
            "  Downloading yahooquery-2.3.7-py3-none-any.whl (52 kB)\n",
            "\u001b[2K     \u001b[90m━━━━━━━━━━━━━━━━━━━━━━━━━━━━━━━━━━━━━━━━\u001b[0m \u001b[32m52.7/52.7 kB\u001b[0m \u001b[31m866.4 kB/s\u001b[0m eta \u001b[36m0:00:00\u001b[0m\n",
            "\u001b[?25hCollecting beautifulsoup4<5.0.0,>=4.12.2 (from yahooquery)\n",
            "  Downloading beautifulsoup4-4.12.2-py3-none-any.whl (142 kB)\n",
            "\u001b[2K     \u001b[90m━━━━━━━━━━━━━━━━━━━━━━━━━━━━━━━━━━━━━━━━\u001b[0m \u001b[32m143.0/143.0 kB\u001b[0m \u001b[31m2.8 MB/s\u001b[0m eta \u001b[36m0:00:00\u001b[0m\n",
            "\u001b[?25hRequirement already satisfied: lxml<5.0.0,>=4.9.3 in /usr/local/lib/python3.10/dist-packages (from yahooquery) (4.9.3)\n",
            "Collecting pandas<3.0.0,>=2.0.3 (from yahooquery)\n",
            "  Downloading pandas-2.1.4-cp310-cp310-manylinux_2_17_x86_64.manylinux2014_x86_64.whl (12.3 MB)\n",
            "\u001b[2K     \u001b[90m━━━━━━━━━━━━━━━━━━━━━━━━━━━━━━━━━━━━━━━━\u001b[0m \u001b[32m12.3/12.3 MB\u001b[0m \u001b[31m53.4 MB/s\u001b[0m eta \u001b[36m0:00:00\u001b[0m\n",
            "\u001b[?25hRequirement already satisfied: requests<3.0.0,>=2.31.0 in /usr/local/lib/python3.10/dist-packages (from yahooquery) (2.31.0)\n",
            "Collecting requests-futures<2.0.0,>=1.0.1 (from yahooquery)\n",
            "  Downloading requests_futures-1.0.1-py2.py3-none-any.whl (7.6 kB)\n",
            "Requirement already satisfied: tqdm<5.0.0,>=4.65.0 in /usr/local/lib/python3.10/dist-packages (from yahooquery) (4.66.1)\n",
            "Requirement already satisfied: soupsieve>1.2 in /usr/local/lib/python3.10/dist-packages (from beautifulsoup4<5.0.0,>=4.12.2->yahooquery) (2.5)\n",
            "Requirement already satisfied: numpy<2,>=1.22.4 in /usr/local/lib/python3.10/dist-packages (from pandas<3.0.0,>=2.0.3->yahooquery) (1.23.5)\n",
            "Requirement already satisfied: python-dateutil>=2.8.2 in /usr/local/lib/python3.10/dist-packages (from pandas<3.0.0,>=2.0.3->yahooquery) (2.8.2)\n",
            "Requirement already satisfied: pytz>=2020.1 in /usr/local/lib/python3.10/dist-packages (from pandas<3.0.0,>=2.0.3->yahooquery) (2023.3.post1)\n",
            "Collecting tzdata>=2022.1 (from pandas<3.0.0,>=2.0.3->yahooquery)\n",
            "  Downloading tzdata-2023.3-py2.py3-none-any.whl (341 kB)\n",
            "\u001b[2K     \u001b[90m━━━━━━━━━━━━━━━━━━━━━━━━━━━━━━━━━━━━━━━━\u001b[0m \u001b[32m341.8/341.8 kB\u001b[0m \u001b[31m25.3 MB/s\u001b[0m eta \u001b[36m0:00:00\u001b[0m\n",
            "\u001b[?25hRequirement already satisfied: charset-normalizer<4,>=2 in /usr/local/lib/python3.10/dist-packages (from requests<3.0.0,>=2.31.0->yahooquery) (3.3.2)\n",
            "Requirement already satisfied: idna<4,>=2.5 in /usr/local/lib/python3.10/dist-packages (from requests<3.0.0,>=2.31.0->yahooquery) (3.6)\n",
            "Requirement already satisfied: urllib3<3,>=1.21.1 in /usr/local/lib/python3.10/dist-packages (from requests<3.0.0,>=2.31.0->yahooquery) (2.0.7)\n",
            "Requirement already satisfied: certifi>=2017.4.17 in /usr/local/lib/python3.10/dist-packages (from requests<3.0.0,>=2.31.0->yahooquery) (2023.11.17)\n",
            "Requirement already satisfied: six>=1.5 in /usr/local/lib/python3.10/dist-packages (from python-dateutil>=2.8.2->pandas<3.0.0,>=2.0.3->yahooquery) (1.16.0)\n",
            "Installing collected packages: tzdata, beautifulsoup4, requests-futures, pandas, yahooquery\n",
            "  Attempting uninstall: beautifulsoup4\n",
            "    Found existing installation: beautifulsoup4 4.11.2\n",
            "    Uninstalling beautifulsoup4-4.11.2:\n",
            "      Successfully uninstalled beautifulsoup4-4.11.2\n",
            "  Attempting uninstall: pandas\n",
            "    Found existing installation: pandas 1.5.3\n",
            "    Uninstalling pandas-1.5.3:\n",
            "      Successfully uninstalled pandas-1.5.3\n",
            "\u001b[31mERROR: pip's dependency resolver does not currently take into account all the packages that are installed. This behaviour is the source of the following dependency conflicts.\n",
            "lida 0.0.10 requires fastapi, which is not installed.\n",
            "lida 0.0.10 requires kaleido, which is not installed.\n",
            "lida 0.0.10 requires python-multipart, which is not installed.\n",
            "lida 0.0.10 requires uvicorn, which is not installed.\n",
            "bigframes 0.17.0 requires pandas<2.1.4,>=1.5.0, but you have pandas 2.1.4 which is incompatible.\n",
            "google-colab 1.0.0 requires pandas==1.5.3, but you have pandas 2.1.4 which is incompatible.\u001b[0m\u001b[31m\n",
            "\u001b[0mSuccessfully installed beautifulsoup4-4.12.2 pandas-2.1.4 requests-futures-1.0.1 tzdata-2023.3 yahooquery-2.3.7\n"
          ]
        }
      ]
    },
    {
      "cell_type": "code",
      "source": [
        "from yahooquery import Ticker\n",
        "import pandas as pd\n",
        "\n",
        "symbol_list_yahoo = ['META', 'AAPL', 'AMZN', 'NFLX', 'GOOG']\n",
        "\n",
        "ticker = Ticker(symbol_list_yahoo)\n",
        "fin_data_dict = ticker.financial_data\n",
        "fin_data_df = pd.DataFrame.from_dict(fin_data_dict, orient=\"index\").T\n",
        "print(fin_data_df)"
      ],
      "metadata": {
        "colab": {
          "base_uri": "https://localhost:8080/"
        },
        "id": "cuVvmle8kxZd",
        "outputId": "20fe3ee3-6379-4a57-997b-7576ee7e54fc"
      },
      "execution_count": 16,
      "outputs": [
        {
          "output_type": "stream",
          "name": "stdout",
          "text": [
            "                                 META          AAPL          AMZN  \\\n",
            "maxAge                          86400         86400         86400   \n",
            "currentPrice                   353.39         193.6        153.42   \n",
            "targetHighPrice                 435.0         250.0         230.0   \n",
            "targetLowPrice                  175.0         159.0         128.0   \n",
            "targetMeanPrice                373.62        198.52        176.84   \n",
            "targetMedianPrice               380.0         200.0         175.0   \n",
            "recommendationMean                1.8           2.1           1.7   \n",
            "recommendationKey                 buy           buy           buy   \n",
            "numberOfAnalystOpinions            50            39            49   \n",
            "totalCash                 61122998272   61554999296   64169000960   \n",
            "totalCashPerShare              23.785         3.958         6.209   \n",
            "ebitda                    54061998080  125820002304   73978003456   \n",
            "totalDebt                 36876001280  123930001408  166064996352   \n",
            "quickRatio                      2.426         0.843         0.701   \n",
            "currentRatio                    2.567         0.988         0.985   \n",
            "totalRevenue             126956003328  383285002240  554027974656   \n",
            "debtToEquity                    25.81       199.418        90.759   \n",
            "revenuePerShare                 48.97        24.344        53.946   \n",
            "returnOnAssets                0.13817       0.20256       0.03612   \n",
            "returnOnEquity                0.22275        1.7195       0.12531   \n",
            "grossProfits              92855000000  170782000000  225152000000   \n",
            "freeCashflow              29440124928   82179997696   36392374272   \n",
            "operatingCashflow         66219999232  110543003648   71653998592   \n",
            "earningsGrowth                  1.679         0.135         2.357   \n",
            "revenueGrowth                   0.232        -0.007         0.126   \n",
            "grossMargins                  0.80115       0.44131       0.46244   \n",
            "ebitdaMargins                 0.42583       0.32827       0.13353   \n",
            "operatingMargins              0.41375       0.30134       0.07819   \n",
            "profitMargins                 0.23421       0.25306       0.03624   \n",
            "financialCurrency                 USD           USD           USD   \n",
            "\n",
            "                                NFLX          GOOG  \n",
            "maxAge                         86400         86400  \n",
            "currentPrice                  486.76        142.72  \n",
            "targetHighPrice                600.0         160.0  \n",
            "targetLowPrice                 335.0         130.0  \n",
            "targetMeanPrice                471.0         146.1  \n",
            "targetMedianPrice              500.0         147.5  \n",
            "recommendationMean               2.1           1.7  \n",
            "recommendationKey                buy           buy  \n",
            "numberOfAnalystOpinions           37            10  \n",
            "totalCash                 7867445760  119935000576  \n",
            "totalCashPerShare             17.975         9.583  \n",
            "ebitda                    6371565056   96071000064  \n",
            "totalDebt                16764248064   30446000128  \n",
            "quickRatio                      1.08         1.865  \n",
            "currentRatio                   1.293         2.043  \n",
            "totalRevenue             32742524928  297131999232  \n",
            "debtToEquity                   75.83        11.144  \n",
            "revenuePerShare               73.752        23.337  \n",
            "returnOnAssets               0.07737       0.13492  \n",
            "returnOnEquity               0.21228       0.25334  \n",
            "grossProfits             12447265000  156633000000  \n",
            "freeCashflow             18025701376   70757122048  \n",
            "operatingCashflow         6055144960  106444996608  \n",
            "earningsGrowth                 0.203          0.46  \n",
            "revenueGrowth                  0.078          0.11  \n",
            "grossMargins                 0.39491       0.56122  \n",
            "ebitdaMargins                 0.1946       0.32333  \n",
            "operatingMargins             0.22436       0.27962  \n",
            "profitMargins                0.13821       0.22459  \n",
            "financialCurrency                USD           USD  \n"
          ]
        }
      ]
    }
  ]
}